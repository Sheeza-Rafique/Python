{
 "cells": [
  {
   "cell_type": "markdown",
   "id": "fd27e7d4",
   "metadata": {},
   "source": [
    "# Reverse String: Write a program that takes a string as input and prints its reverse.\n"
   ]
  },
  {
   "cell_type": "code",
   "execution_count": 1,
   "id": "5ec24684",
   "metadata": {},
   "outputs": [
    {
     "name": "stdout",
     "output_type": "stream",
     "text": [
      "Enter a string   sheeza\n",
      "azeehs\n",
      "Enter a string   rafique\n",
      "euqifar \n"
     ]
    }
   ],
   "source": [
    "user=input(\"Enter a string   \")\n",
    "reversed_string=user[::-1]\n",
    "print(reversed_string)\n",
    "\n",
    "#OR\n",
    "user=input(\"Enter a string   \")\n",
    "reversed_string=' '\n",
    "for i in user:\n",
    "   reversed_string=i+reversed_string\n",
    "print(reversed_string)"
   ]
  },
  {
   "cell_type": "markdown",
   "id": "ddf6677b",
   "metadata": {},
   "source": [
    "# Count Vowels: Write a function that takes a string as input and returns the count of vowels (a, e, i, o, u) in the string."
   ]
  },
  {
   "cell_type": "code",
   "execution_count": 2,
   "id": "6f0fee00",
   "metadata": {},
   "outputs": [
    {
     "name": "stdout",
     "output_type": "stream",
     "text": [
      "Enter a string: sheeza\n",
      "Count of Vowels is:  3\n"
     ]
    }
   ],
   "source": [
    "def count_vowels(string):\n",
    "    count=0\n",
    "    for i in string:\n",
    "        if i.lower() in \"aeiou\":\n",
    "            count+=1\n",
    "    return count\n",
    "user=input(\"Enter a string: \")\n",
    "vowel_count=count_vowels(user)\n",
    "print(\"Count of Vowels is: \", vowel_count)\n"
   ]
  },
  {
   "cell_type": "code",
   "execution_count": 3,
   "id": "710a721c",
   "metadata": {},
   "outputs": [
    {
     "name": "stdout",
     "output_type": "stream",
     "text": [
      "Enter a string: sheeza\n",
      "Vowels found: ['e', 'e', 'a']\n"
     ]
    }
   ],
   "source": [
    "def find_vowels(string):\n",
    "    # Step 2: Initialize empty list for vowels\n",
    "    vowels = []\n",
    "    \n",
    "    # Step 3: Iterate through each character\n",
    "    for char in string:\n",
    "        # Step 4: Check if the character is a vowel\n",
    "        if char.lower() in \"aeiou\":\n",
    "            # Step 5: Append vowel to the list\n",
    "            vowels.append(char)\n",
    "    \n",
    "    # Step 6: Return the list of vowels\n",
    "    return vowels\n",
    "\n",
    "# Example usage\n",
    "input_string = input(\"Enter a string: \")\n",
    "vowel_list = find_vowels(input_string)\n",
    "print(\"Vowels found:\", vowel_list)\n"
   ]
  },
  {
   "cell_type": "code",
   "execution_count": 5,
   "id": "d9643006",
   "metadata": {},
   "outputs": [
    {
     "name": "stdout",
     "output_type": "stream",
     "text": [
      "Enter a string: sheeza\n",
      "Count of vowels: 3\n",
      "Vowels found: ['e', 'e', 'a']\n"
     ]
    }
   ],
   "source": [
    "def count_vowels(string):\n",
    "    count = 0\n",
    "    vowels = []\n",
    "    for char in string:\n",
    "        if char.lower() in \"aeiou\":\n",
    "            count += 1\n",
    "            vowels.append(char)\n",
    "    return count, vowels\n",
    "\n",
    "# Example usage\n",
    "input_string = input(\"Enter a string: \")\n",
    "vowel_count, vowel_list = count_vowels(input_string)\n",
    "print(\"Count of vowels:\", vowel_count)\n",
    "print(\"Vowels found:\", vowel_list)"
   ]
  },
  {
   "cell_type": "code",
   "execution_count": null,
   "id": "aa0876da",
   "metadata": {},
   "outputs": [],
   "source": []
  }
 ],
 "metadata": {
  "kernelspec": {
   "display_name": "Python 3 (ipykernel)",
   "language": "python",
   "name": "python3"
  },
  "language_info": {
   "codemirror_mode": {
    "name": "ipython",
    "version": 3
   },
   "file_extension": ".py",
   "mimetype": "text/x-python",
   "name": "python",
   "nbconvert_exporter": "python",
   "pygments_lexer": "ipython3",
   "version": "3.10.9"
  }
 },
 "nbformat": 4,
 "nbformat_minor": 5
}
