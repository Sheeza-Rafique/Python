{
 "cells": [
  {
   "cell_type": "code",
   "execution_count": null,
   "id": "c37b8a10",
   "metadata": {},
   "outputs": [],
   "source": [
    "#Basics and strings with f measures \n",
    "\n",
    "a=\"mathematics\"\n",
    "b=\"physics\"\n",
    "marks_math=43\n",
    "marks_physics=65\n",
    "average=249.88499393282\n",
    "print(f\"Marks in {a} is {marks_math} and marks in {b} is {marks_physics} and {average:.3f}\")\n",
    "print(\"Marks in \"+a+  'is' +str(marks_math)+' and marks in ' +b+' is '+str(marks_physics)+ \"and \"+ \"%.3f\"% average)"
   ]
  },
  {
   "cell_type": "code",
   "execution_count": null,
   "id": "0438144a",
   "metadata": {},
   "outputs": [],
   "source": [
    "#Finctions\n",
    "def add(a,b):\n",
    "    return a+b\n",
    "def sub(a,b):\n",
    "    return a-b\n",
    "def product(a,b):\n",
    "    return a*b\n",
    "def div(a,b):\n",
    "    return a/b\n",
    "def squar(a):\n",
    "    return a**2\n",
    "def squart(a):\n",
    "    return a**0.5"
   ]
  },
  {
   "cell_type": "code",
   "execution_count": 3,
   "id": "7587ec0c",
   "metadata": {},
   "outputs": [
    {
     "name": "stdout",
     "output_type": "stream",
     "text": [
      "Enter value for a:    56\n",
      "Enter your value for b:  34\n",
      "Addition of 56  and 34 is:  90\n",
      "subtraction of 56  and 34 is:  22\n",
      "Product of 56  and 34 is:  1904\n",
      "Division of 56  and 34 is:  1.647\n",
      "square of 56 is:  3136\n",
      "square root of 34 is:  5.831\n"
     ]
    }
   ],
   "source": [
    "\n",
    "a=int(input(\"Enter value for a:    \"))\n",
    "b=int(input(\"Enter your value for b:  \"))\n",
    "print(f\"Addition of {a}  and {b} is:  {add(a,b)}\")\n",
    "print(f\"subtraction of {a}  and {b} is:  {sub(a,b)}\")\n",
    "print(f\"Product of {a}  and {b} is:  {product(a,b)}\")\n",
    "print(f\"Division of {a}  and {b} is:  {div(a,b):.3f}\")\n",
    "print(f\"square of {a} is:  {squar(a)}\")\n",
    "print(f\"square root of {b} is:  {squart(b):.3f}\")"
   ]
  }
 ],
 "metadata": {
  "kernelspec": {
   "display_name": "Python 3 (ipykernel)",
   "language": "python",
   "name": "python3"
  },
  "language_info": {
   "codemirror_mode": {
    "name": "ipython",
    "version": 3
   },
   "file_extension": ".py",
   "mimetype": "text/x-python",
   "name": "python",
   "nbconvert_exporter": "python",
   "pygments_lexer": "ipython3",
   "version": "3.10.9"
  }
 },
 "nbformat": 4,
 "nbformat_minor": 5
}
