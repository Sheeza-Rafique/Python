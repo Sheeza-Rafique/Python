{
 "cells": [
  {
   "cell_type": "code",
   "execution_count": null,
   "id": "93e326a7",
   "metadata": {},
   "outputs": [],
   "source": [
    "'''A company decided to give bonus of 5% to empolyee if his/her year of service more than 5 years.Ask user for \n",
    "#their salary, year of service and print the net bonus amount'''\n",
    "\n",
    "Salary=int(input(\"Enter your monthaly Salary:  \"))\n",
    "Service=int(input(\"Enter your year of service:  \"))\n",
    "bonus=5/100\n",
    "if Service>5:\n",
    "    Bonus=bonus*Salary\n",
    "    Net_Bonus=Salary+Bonus\n",
    "    print( \"Net Bonus is:  \",Net_Bonus)\n",
    "    \n",
    "else:\n",
    "    print(\"Service is less than 5 year bonus is not given\")\n"
   ]
  },
  {
   "cell_type": "code",
   "execution_count": null,
   "id": "31ba7dc0",
   "metadata": {},
   "outputs": [],
   "source": [
    "'''Take the valuse of length and breadth of a rectangel from user and check if it is square or not'''\n",
    "\n",
    "\n",
    "length_rec=int(input(\"Enter length of rectangle\"))\n",
    "breadth_rec=int(input(\"Enter the breadth of rectangle\"))\n",
    "if length_rec==breadth_rec:\n",
    "    print(\"It is square \")\n",
    "else:\n",
    "    print(\"It is not a square\")\n"
   ]
  },
  {
   "cell_type": "code",
   "execution_count": null,
   "id": "b48fe9f7",
   "metadata": {},
   "outputs": [],
   "source": [
    "'''take two int values from the user and print greates among them'''\n",
    "\n",
    "\n",
    "a=int(input(\"First no \"))\n",
    "b=int(input(\"Second no  \"))\n",
    "if a==b:\n",
    "  print(\"nos are equal try differant nos \")\n",
    "elif a>b:\n",
    "  print(a,\"Is greater 55\")\n",
    "else:\n",
    "    print(b,\" is greater\")"
   ]
  },
  {
   "cell_type": "code",
   "execution_count": null,
   "id": "0c8cbfa5",
   "metadata": {},
   "outputs": [],
   "source": [
    "\"\"\"A shope will give discount of 10%if the cost of purchased quanity is more than 1000 ask user for quantity .\n",
    "Suppose, one unit will cost 100.Judge and print total cost for user \"\"\"\n",
    "\n",
    "\n",
    "\n",
    "user_quantity=int(input(\"Enter your quantity of purchase \"))\n",
    "one_unit_cost=100\n",
    "result=user_quantity*one_unit_cost\n",
    "dis=10/100\n",
    "if result>1000:\n",
    "    discount=result*dis\n",
    "    total_cost=result-discount\n",
    "    \n",
    "    print(\"Total cost of user after discount is:  \", total_cost)\n",
    "else:\n",
    "    print(\"Total cost of user without discount is:  \",result)"
   ]
  },
  {
   "cell_type": "code",
   "execution_count": null,
   "id": "4b3335d7",
   "metadata": {},
   "outputs": [],
   "source": [
    "\"\"\"A school has following rules for grading system:\n",
    "a. Below 25 - F\n",
    "b. 25 to 45 - E\n",
    "c. 45 to 50 - D\n",
    "d. 50 to 60 - C\n",
    "e. 60 to 80 - B\n",
    "f. Above 80 - A\n",
    "Ask user to enter marks and print the corresponding grade. \"\"\"\n",
    "\n",
    "\n",
    "\n",
    "Marks=int(input(\"Enter your marks:  \"))\n",
    "Total_marks=100\n",
    "if Marks>=80:\n",
    "    print(\"A\")\n",
    "elif  Marks<80 and Marks>=60: \n",
    "    print(\"B\")\n",
    "elif  Marks>=50 and Marks<60:\n",
    "    print(\"C\")\n",
    "elif  Marks>=45 and Marks<50:\n",
    "    print(\"D\")\n",
    "elif  Marks>=25 and Marks<45:\n",
    "    print(\"E\")\n",
    "elif Marks<25:\n",
    "    print(\"F\")\n",
    "    \n",
    "    \n",
    "    \n",
    "    \n",
    "    "
   ]
  },
  {
   "cell_type": "code",
   "execution_count": null,
   "id": "5a37592d",
   "metadata": {},
   "outputs": [],
   "source": [
    "\"\"\" Take input of age of 3 people by user and determine oldest and youngest among them.\"\"\"\n",
    "\n",
    "Preson_1=int(input(\"Enter your age:  \"))\n",
    "Preson_2=int(input(\"Enter your age:  \"))\n",
    "Preson_3=int(input(\"Enter your age:  \"))\n",
    "if Preson_1==Preson_2==Preson_3:\n",
    "    print(\"they have same age\")\n",
    "elif Preson_1>Preson_2 and Preson_1>Preson_3:\n",
    "    print(\"Preson_1 is oldest\")\n",
    "elif Preson_2>Preson_1 and Preson_2>Preson_3:\n",
    "    print(\"Preson_2 is oldest\")\n",
    "else:\n",
    "    print(\"Person_3 is oldest\")\n",
    "    "
   ]
  },
  {
   "cell_type": "code",
   "execution_count": null,
   "id": "824b8353",
   "metadata": {},
   "outputs": [],
   "source": [
    "\"\"\"Write a program to print absolute vlaue of a number entered by user. E.g.-\n",
    "INPUT: 1        OUTPUT: 1\n",
    "INPUT: -1        OUTPUT: 1\"\"\"\n",
    "\n",
    "user=int(input(\"Enter any no: \"))\n",
    "print(abs(user))"
   ]
  },
  {
   "cell_type": "code",
   "execution_count": null,
   "id": "34c995e5",
   "metadata": {},
   "outputs": [],
   "source": [
    "\"\"\"A student will not be allowed to sit in exam if his/her attendence is less than 75%.\n",
    "Take following input from user\n",
    "Number of classes held\n",
    "Number of classes attended.\n",
    "And print\n",
    "percentage of class attended\n",
    "Is student is allowed to sit in exam or not.\"\"\"\n",
    "\n",
    "classes_held=int(input(\"Enter no of classes held:  \"))\n",
    "classes_attend=int(input(\"Enter no of classes attend:  \"))\n",
    "res=classes_attend/classes_held*100\n",
    "if res>75:\n",
    "    print(\"Allowed\")\n",
    "else:\n",
    "    print(\"Not allowed\")\n"
   ]
  },
  {
   "cell_type": "code",
   "execution_count": null,
   "id": "fd304b94",
   "metadata": {},
   "outputs": [],
   "source": [
    "\"\"\"Modify the above question to allow student to sit if he/she has medical cause. Ask user if he/she has medical\n",
    "cause or not ( 'Y' or 'N' ) and print accordingly.\"\"\"\n",
    "\n",
    "classes_held=int(input(\"Enter no of classes held:  \"))\n",
    "classes_attend=int(input(\"Enter no of classes attend:  \"))\n",
    "res=classes_attend/classes_held*100\n",
    "medical_report=input(\"Medical status:  \")\n",
    "if res>75:\n",
    "    print(\"Allowed\")\n",
    "    medical_report=input(\"Medical status:  \")\n",
    "elif res<75 and  medical_report==\"Yes\":\n",
    "    print(\"Allowed\")\n",
    "elif res<75 and  medical_report==\"No\":\n",
    "    print(\"Not allowed\")\n",
    "else:\n",
    "    print(\"Not allowed\")\n"
   ]
  },
  {
   "cell_type": "code",
   "execution_count": 38,
   "id": "585c101a",
   "metadata": {},
   "outputs": [
    {
     "name": "stdout",
     "output_type": "stream",
     "text": [
      "Enter a no you want to get factorial: 6\n",
      "The factorial of  6 is 720\n"
     ]
    }
   ],
   "source": [
    "\"\"\"Write a program to find the factorial of a no\"\"\"\n",
    "user=int(input(\"Enter a no you want to get factorial: \"))\n",
    "prod=1\n",
    "if user==0:\n",
    "    print(\"Factorial of zero is: 1\")\n",
    "elif user<0:\n",
    "    print(\"Facorial of negative not exist.\")\n",
    "else:\n",
    "    for i in range(1,user+1):\n",
    "    #sum=prod+i\n",
    "        prod=i*prod\n",
    "    print(\"The factorial of \",user,\"is\",prod)"
   ]
  },
  {
   "cell_type": "code",
   "execution_count": 48,
   "id": "ab204f38",
   "metadata": {},
   "outputs": [
    {
     "name": "stdout",
     "output_type": "stream",
     "text": [
      "Enter a no to check its prime or not: -12\n",
      "It is not a prime no\n"
     ]
    }
   ],
   "source": [
    "\"\"\"Write a program to check the weather that number is prime or not\"\"\"\n",
    "user=int(input(\"Enter a no to check its prime or not: \"))\n",
    "if user>1:\n",
    "    for i in range (2,user):\n",
    "        if user%i==0:\n",
    "            print(user,\"is not a prime no \")\n",
    "            break\n",
    "    else:\n",
    "        print(user,\" is prime no\")\n",
    "else:\n",
    "    print(\"It is not a prime no\")\n",
    "         "
   ]
  },
  {
   "cell_type": "code",
   "execution_count": 47,
   "id": "197e8296",
   "metadata": {},
   "outputs": [
    {
     "name": "stdout",
     "output_type": "stream",
     "text": [
      "10\n",
      "8\n",
      "6\n",
      "4\n",
      "2\n"
     ]
    }
   ],
   "source": [
    "\"\"\"Write a program to print 10 even nos in reverse order\"\"\"\n",
    "for i in range(10,1,-1):\n",
    "    if i%2==0:\n",
    "        print(i)"
   ]
  },
  {
   "cell_type": "code",
   "execution_count": null,
   "id": "512caa4f",
   "metadata": {},
   "outputs": [],
   "source": [
    "\"\"\"write a programe to reverse a no\"\"\" \n",
    "user=int(input(\"Enter a no \"))\n",
    "reverse=0\n",
    "while i in range(user):\n",
    "    user//10==0\n",
    "    "
   ]
  },
  {
   "cell_type": "code",
   "execution_count": 28,
   "id": "ea35a538",
   "metadata": {},
   "outputs": [
    {
     "name": "stdout",
     "output_type": "stream",
     "text": [
      "0\n",
      "7\n",
      "14\n",
      "21\n",
      "28\n",
      "35\n",
      "42\n",
      "49\n"
     ]
    }
   ],
   "source": [
    "\"\"\"Write a program to find a first seven multiple of seven\"\"\"\n",
    "multiple=1\n",
    "n=7\n",
    "for i in range(n+1):\n",
    "    multiplee= n*i\n",
    "\n",
    "    print(multiplee) \n",
    "    \n",
    "\n",
    "    "
   ]
  },
  {
   "cell_type": "code",
   "execution_count": 36,
   "id": "25ed63f1",
   "metadata": {},
   "outputs": [
    {
     "name": "stdout",
     "output_type": "stream",
     "text": [
      "Positive Nos:  [31, 0, 3, 5, 87, 90, 0, 12, 4, 6, 2, 1, 6]\n",
      "Negative Nos:  [-54, -54, -5]\n"
     ]
    }
   ],
   "source": [
    "\"\"\"Write a program to seperate positive and negative no from the list\"\"\"\n",
    "List=[31,0,3,5,87,-54,90,-0,12,4,6,-54,2,1,-5,6]\n",
    "Positive=[]\n",
    "Negative=[]\n",
    "for i in List:\n",
    "    if i>=0:\n",
    "        Positive.append(i)\n",
    "    else:\n",
    "        Negative.append(i)\n",
    "    \n",
    "print(\"Positive Nos: \",Positive)\n",
    "print(\"Negative Nos: \",Negative)"
   ]
  },
  {
   "cell_type": "code",
   "execution_count": null,
   "id": "c1ce7ab1",
   "metadata": {},
   "outputs": [],
   "source": []
  }
 ],
 "metadata": {
  "kernelspec": {
   "display_name": "Python 3 (ipykernel)",
   "language": "python",
   "name": "python3"
  },
  "language_info": {
   "codemirror_mode": {
    "name": "ipython",
    "version": 3
   },
   "file_extension": ".py",
   "mimetype": "text/x-python",
   "name": "python",
   "nbconvert_exporter": "python",
   "pygments_lexer": "ipython3",
   "version": "3.10.9"
  }
 },
 "nbformat": 4,
 "nbformat_minor": 5
}
