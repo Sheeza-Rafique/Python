{
 "cells": [
  {
   "cell_type": "code",
   "execution_count": null,
   "id": "407ff2de",
   "metadata": {},
   "outputs": [],
   "source": [
    "\"\"\"Take input from user and print table of input\"\"\"\n",
    "user=int(input(\"Enter a no you want to print table:  \"))\n",
    "for i in range(1,11):\n",
    "       \n",
    "    print(user,'x',i,'=',user*i)"
   ]
  },
  {
   "cell_type": "code",
   "execution_count": 5,
   "id": "29282c35",
   "metadata": {},
   "outputs": [
    {
     "name": "stdout",
     "output_type": "stream",
     "text": [
      "[1505, 1540, 1575, 1610, 1645, 1680, 1715, 1750, 1785, 1820, 1855, 1890, 1925, 1960, 1995, 2030, 2065, 2100, 2135, 2170, 2205, 2240, 2275, 2310, 2345, 2380, 2415, 2450, 2485, 2520, 2555, 2590, 2625, 2660, 2695]\n"
     ]
    }
   ],
   "source": [
    "\n",
    "\n",
    "\"\"\"Write a python program to find those numbers which are divisible by 7 multiple of 5 between 1500 and 2700\"\"\"\n",
    "result=[]\n",
    "for i in range(1500,2701):\n",
    "    if i%7==0 and i%5==0:\n",
    "        result.append(i)\n",
    "\n",
    "print(result)\n",
    "\n",
    "    \n",
    "        \n",
    "       "
   ]
  },
  {
   "cell_type": "code",
   "execution_count": 42,
   "id": "8e313c50",
   "metadata": {},
   "outputs": [
    {
     "name": "stdout",
     "output_type": "stream",
     "text": [
      "Even nos are:  4\n",
      "Odd nos are:   8\n",
      "4\n"
     ]
    }
   ],
   "source": [
    "'''writ a python program to count the number of even and odd in a series of number \n",
    "numbers=(1,2,3,4,5,6,7,8,9)'''\n",
    "numbers=(1,1,1,1,2,3,4,5,6,7,8,9)\n",
    "count_even=0\n",
    "count_odd=0\n",
    "count=numbers.count(1)\n",
    "for i in numbers:\n",
    "    \n",
    "    if i%2==0:\n",
    "        count_even+=1\n",
    "    else:\n",
    "        count_odd+=1\n",
    "print(\"Even nos are: \", count_even)\n",
    "print(\"Odd nos are:  \", count_odd)\n",
    "print(count)\n",
    "\n"
   ]
  },
  {
   "cell_type": "code",
   "execution_count": 24,
   "id": "8488a263",
   "metadata": {},
   "outputs": [
    {
     "name": "stdout",
     "output_type": "stream",
     "text": [
      "1\n",
      "2\n",
      "Fizz\n",
      "3\n",
      "4\n",
      "Buzz\n",
      "5\n",
      "Fizz\n",
      "6\n",
      "7\n",
      "8\n",
      "Fizz\n",
      "9\n",
      "Buzz\n",
      "10\n",
      "11\n",
      "Fizz\n",
      "12\n",
      "13\n",
      "14\n",
      "Fizz\n",
      "15\n",
      "16\n",
      "17\n",
      "Fizz\n",
      "18\n",
      "19\n",
      "Buzz\n",
      "20\n",
      "Fizz\n",
      "21\n",
      "22\n",
      "23\n",
      "Fizz\n",
      "24\n",
      "Buzz\n",
      "25\n",
      "26\n",
      "Fizz\n",
      "27\n",
      "28\n",
      "29\n",
      "Fizz\n",
      "30\n",
      "31\n",
      "32\n",
      "Fizz\n",
      "33\n",
      "34\n",
      "Buzz\n",
      "35\n",
      "Fizz\n",
      "36\n",
      "37\n",
      "38\n",
      "Fizz\n",
      "39\n",
      "Buzz\n",
      "40\n",
      "41\n",
      "Fizz\n",
      "42\n",
      "43\n",
      "44\n",
      "Fizz\n",
      "45\n",
      "46\n",
      "47\n",
      "Fizz\n",
      "48\n",
      "49\n",
      "Buzz\n",
      "50\n"
     ]
    }
   ],
   "source": [
    "\"\"\"Write a program that itterates the integer from 1 to 50. For multiples of three print'Fizz' instead \n",
    "of the no and for multiples 5 print 'Buzz'. for the nos that are multiple of three and five print'FizzBuzz\n",
    "\"\"\"\n",
    "for i in range(1,51):\n",
    "    if i%3==0:\n",
    "        print(\"Fizz\")\n",
    "    elif i%5==0:\n",
    "        print(\"Buzz\")\n",
    "    elif i%3==0 and i%5==0:\n",
    "        print(\"FizzBuzz\")\n",
    "    print(i)"
   ]
  },
  {
   "cell_type": "code",
   "execution_count": 55,
   "id": "c4e82f5f",
   "metadata": {},
   "outputs": [
    {
     "name": "stdout",
     "output_type": "stream",
     "text": [
      "Even nos are:  4\n",
      "Odd nos are:   8\n"
     ]
    }
   ],
   "source": [
    "'''writ a python program to count the number of even and odd in a series of number \n",
    "numbers=(1,2,3,4,5,6,7,8,9)'''\n",
    "numbers=(1,1,1,1,2,3,4,5,6,7,8,9)\n",
    "count_even=0\n",
    "count_odd=0\n",
    "#count=numbers.count(1)\n",
    "for i in numbers:\n",
    "    if i%2==0:\n",
    "        count_even+=1\n",
    "    else:\n",
    "        count_odd+=1\n",
    "print(\"Even nos are: \", count_even)\n",
    "print(\"Odd nos are:  \", count_odd)\n"
   ]
  },
  {
   "cell_type": "code",
   "execution_count": 57,
   "id": "ae7d69b3",
   "metadata": {},
   "outputs": [
    {
     "name": "stdout",
     "output_type": "stream",
     "text": [
      "Enter no you want to get count:  1\n",
      "Count of no is: 5\n"
     ]
    }
   ],
   "source": [
    "\"\"\"print the count of value user enter from list\"\"\"\n",
    "num=[12,1,24,5,3,6,7,3,2,4,6,2,1,3,2,6,7,8,4,2,5,8,6,87,65,43,64,35,3,2,4,2,2,1,11,1,1]\n",
    "count=0\n",
    "user=int(input(\"Enter no you want to get count:  \"))\n",
    "for i in num:\n",
    "    if i==user:\n",
    "        count+=1\n",
    "print(\"Count of no is:\",count)"
   ]
  },
  {
   "cell_type": "code",
   "execution_count": 60,
   "id": "367bfac9",
   "metadata": {},
   "outputs": [
    {
     "name": "stdout",
     "output_type": "stream",
     "text": [
      "0\n",
      "2\n",
      "4\n",
      "6\n",
      "8\n",
      "10\n",
      "12\n",
      "14\n",
      "16\n",
      "18\n",
      "20\n"
     ]
    }
   ],
   "source": [
    "#Write a programm to print first 10 even nos\n",
    "for i in range(21):\n",
    "    if i%2==0:\n",
    "        print(i)"
   ]
  },
  {
   "cell_type": "code",
   "execution_count": 61,
   "id": "8b65d724",
   "metadata": {},
   "outputs": [
    {
     "name": "stdout",
     "output_type": "stream",
     "text": [
      "1\n",
      "3\n",
      "5\n",
      "7\n",
      "9\n",
      "11\n",
      "13\n",
      "15\n",
      "17\n",
      "19\n"
     ]
    }
   ],
   "source": [
    "#Write a programm to print first 10 odd nos\n",
    "for i in range(21):\n",
    "    if i%2==1:\n",
    "        print(i)"
   ]
  },
  {
   "cell_type": "code",
   "execution_count": 67,
   "id": "554a8650",
   "metadata": {},
   "outputs": [
    {
     "name": "stdout",
     "output_type": "stream",
     "text": [
      "10\n",
      "9\n",
      "8\n",
      "7\n",
      "6\n",
      "5\n",
      "4\n",
      "3\n",
      "2\n",
      "1\n"
     ]
    }
   ],
   "source": [
    "#Write a programm to print first 10 natural nos in reverse order\n",
    "for i in range(10,0,-1):\n",
    "    print(i)"
   ]
  },
  {
   "cell_type": "code",
   "execution_count": 74,
   "id": "1d50e089",
   "metadata": {},
   "outputs": [
    {
     "name": "stdout",
     "output_type": "stream",
     "text": [
      "Enter a number you want to get factorial:  4\n",
      "24\n"
     ]
    }
   ],
   "source": [
    "#wrte a program to find a factorial of a no\n",
    "number=int(input(\"Enter a number you want to get factorial:  \"))\n",
    "fact=1\n",
    "for i in range(1,number+1):\n",
    "    fact=fact*i\n",
    "print(fact)"
   ]
  },
  {
   "cell_type": "code",
   "execution_count": null,
   "id": "735ab41a",
   "metadata": {},
   "outputs": [],
   "source": []
  }
 ],
 "metadata": {
  "kernelspec": {
   "display_name": "Python 3 (ipykernel)",
   "language": "python",
   "name": "python3"
  },
  "language_info": {
   "codemirror_mode": {
    "name": "ipython",
    "version": 3
   },
   "file_extension": ".py",
   "mimetype": "text/x-python",
   "name": "python",
   "nbconvert_exporter": "python",
   "pygments_lexer": "ipython3",
   "version": "3.10.9"
  }
 },
 "nbformat": 4,
 "nbformat_minor": 5
}
